{
 "cells": [
  {
   "cell_type": "code",
   "execution_count": 1,
   "id": "548302fe",
   "metadata": {},
   "outputs": [
    {
     "name": "stdout",
     "output_type": "stream",
     "text": [
      "Hello World\n"
     ]
    }
   ],
   "source": [
    "#Display “Hello World” in your output screen.\n",
    "\n",
    "\n",
    "print(\"Hello World\")"
   ]
  },
  {
   "cell_type": "code",
   "execution_count": 3,
   "id": "8e1aa846",
   "metadata": {},
   "outputs": [
    {
     "name": "stdout",
     "output_type": "stream",
     "text": [
      "Enter the value of A=1020\n",
      "Enter the value of B=1020\n",
      "Addition of two number= 2040\n"
     ]
    }
   ],
   "source": [
    "#Get the input from the user and perform addition of two numbers\n",
    "\n",
    "\n",
    "a=int(input(\"Enter the value of A=\"))\n",
    "b=int(input(\"Enter the value of B=\"))\n",
    "c=a+b\n",
    "print(\"Addition of two number=\",c)\n"
   ]
  },
  {
   "cell_type": "code",
   "execution_count": 4,
   "id": "10f5010b",
   "metadata": {},
   "outputs": [
    {
     "name": "stdout",
     "output_type": "stream",
     "text": [
      "Enter the value of A=10\n",
      "Enter the value of B=20\n",
      "The value of A =  20\n",
      "The value of B =  10\n"
     ]
    }
   ],
   "source": [
    "#swap to variables without temp variable\n",
    "\n",
    "\n",
    "a=int(input(\"Enter the value of A=\"))\n",
    "b=int(input(\"Enter the value of B=\"))\n",
    "a=a+b\n",
    "b=a-b\n",
    "a=a-b\n",
    "print(\"The value of A = \",a)\n",
    "print(\"The value of B = \",b)\n"
   ]
  },
  {
   "cell_type": "code",
   "execution_count": 6,
   "id": "d9e01761",
   "metadata": {},
   "outputs": [
    {
     "name": "stdout",
     "output_type": "stream",
     "text": [
      "Enter the value of Kilometers=1000\n",
      "The value of meters= 621.371\n"
     ]
    }
   ],
   "source": [
    "#convert the entered kilometres ( Convertion Factor= 0.621371)\n",
    "\n",
    "\n",
    "Convertion_Factor= 0.621371\n",
    "a=int(input(\"Enter the value of Kilometers=\"))\n",
    "b=a*Convertion_Factor\n",
    "print(\"The value of meters=\",b)"
   ]
  },
  {
   "cell_type": "code",
   "execution_count": 9,
   "id": "d0df177d",
   "metadata": {},
   "outputs": [
    {
     "name": "stdout",
     "output_type": "stream",
     "text": [
      "Enter the value of A=-4\n",
      "The number is negative.\n"
     ]
    }
   ],
   "source": [
    "#check whether the given number is positive, negative or 0\n",
    "\n",
    "\n",
    "a=int(input(\"Enter the value of A=\"))\n",
    "if a<0:\n",
    "    a=int(input(\"Enter the value of A=\"))\n",
    "elif a>0:\n",
    "    print(\"The number is positive.\")\n",
    "else:\n",
    "    print(\"The number is zero.\")"
   ]
  },
  {
   "cell_type": "code",
   "execution_count": 10,
   "id": "2343a9b3",
   "metadata": {},
   "outputs": [
    {
     "name": "stdout",
     "output_type": "stream",
     "text": [
      "Enter the Year=2004\n",
      "It is a leap year.\n"
     ]
    }
   ],
   "source": [
    "#verify that the given year is a leap year\n",
    "\n",
    "\n",
    "year=int(input(\"Enter the Year=\"))\n",
    "if (a%400 and a%4)or(a%100):\n",
    "    print(\"It is a leap year.\")\n",
    "else:\n",
    "    print(\"It is not a leap year.\")"
   ]
  },
  {
   "cell_type": "code",
   "execution_count": 13,
   "id": "60386d1a",
   "metadata": {},
   "outputs": [
    {
     "name": "stdout",
     "output_type": "stream",
     "text": [
      "Enter the value of A=10\n",
      "Enter the value of B=52\n",
      "The prime number in range are:\n",
      "11\n",
      "11\n",
      "11\n",
      "11\n",
      "11\n",
      "11\n",
      "11\n",
      "11\n",
      "11\n",
      "13\n",
      "13\n",
      "13\n",
      "13\n",
      "13\n",
      "13\n",
      "13\n",
      "13\n",
      "13\n",
      "13\n",
      "13\n",
      "15\n",
      "17\n",
      "17\n",
      "17\n",
      "17\n",
      "17\n",
      "17\n",
      "17\n",
      "17\n",
      "17\n",
      "17\n",
      "17\n",
      "17\n",
      "17\n",
      "17\n",
      "17\n",
      "19\n",
      "19\n",
      "19\n",
      "19\n",
      "19\n",
      "19\n",
      "19\n",
      "19\n",
      "19\n",
      "19\n",
      "19\n",
      "19\n",
      "19\n",
      "19\n",
      "19\n",
      "19\n",
      "19\n",
      "21\n",
      "23\n",
      "23\n",
      "23\n",
      "23\n",
      "23\n",
      "23\n",
      "23\n",
      "23\n",
      "23\n",
      "23\n",
      "23\n",
      "23\n",
      "23\n",
      "23\n",
      "23\n",
      "23\n",
      "23\n",
      "23\n",
      "23\n",
      "23\n",
      "23\n",
      "25\n",
      "25\n",
      "25\n",
      "27\n",
      "29\n",
      "29\n",
      "29\n",
      "29\n",
      "29\n",
      "29\n",
      "29\n",
      "29\n",
      "29\n",
      "29\n",
      "29\n",
      "29\n",
      "29\n",
      "29\n",
      "29\n",
      "29\n",
      "29\n",
      "29\n",
      "29\n",
      "29\n",
      "29\n",
      "29\n",
      "29\n",
      "29\n",
      "29\n",
      "29\n",
      "29\n",
      "31\n",
      "31\n",
      "31\n",
      "31\n",
      "31\n",
      "31\n",
      "31\n",
      "31\n",
      "31\n",
      "31\n",
      "31\n",
      "31\n",
      "31\n",
      "31\n",
      "31\n",
      "31\n",
      "31\n",
      "31\n",
      "31\n",
      "31\n",
      "31\n",
      "31\n",
      "31\n",
      "31\n",
      "31\n",
      "31\n",
      "31\n",
      "31\n",
      "31\n",
      "33\n",
      "35\n",
      "35\n",
      "35\n",
      "37\n",
      "37\n",
      "37\n",
      "37\n",
      "37\n",
      "37\n",
      "37\n",
      "37\n",
      "37\n",
      "37\n",
      "37\n",
      "37\n",
      "37\n",
      "37\n",
      "37\n",
      "37\n",
      "37\n",
      "37\n",
      "37\n",
      "37\n",
      "37\n",
      "37\n",
      "37\n",
      "37\n",
      "37\n",
      "37\n",
      "37\n",
      "37\n",
      "37\n",
      "37\n",
      "37\n",
      "37\n",
      "37\n",
      "37\n",
      "37\n",
      "39\n",
      "41\n",
      "41\n",
      "41\n",
      "41\n",
      "41\n",
      "41\n",
      "41\n",
      "41\n",
      "41\n",
      "41\n",
      "41\n",
      "41\n",
      "41\n",
      "41\n",
      "41\n",
      "41\n",
      "41\n",
      "41\n",
      "41\n",
      "41\n",
      "41\n",
      "41\n",
      "41\n",
      "41\n",
      "41\n",
      "41\n",
      "41\n",
      "41\n",
      "41\n",
      "41\n",
      "41\n",
      "41\n",
      "41\n",
      "41\n",
      "41\n",
      "41\n",
      "41\n",
      "41\n",
      "41\n",
      "43\n",
      "43\n",
      "43\n",
      "43\n",
      "43\n",
      "43\n",
      "43\n",
      "43\n",
      "43\n",
      "43\n",
      "43\n",
      "43\n",
      "43\n",
      "43\n",
      "43\n",
      "43\n",
      "43\n",
      "43\n",
      "43\n",
      "43\n",
      "43\n",
      "43\n",
      "43\n",
      "43\n",
      "43\n",
      "43\n",
      "43\n",
      "43\n",
      "43\n",
      "43\n",
      "43\n",
      "43\n",
      "43\n",
      "43\n",
      "43\n",
      "43\n",
      "43\n",
      "43\n",
      "43\n",
      "43\n",
      "43\n",
      "45\n",
      "47\n",
      "47\n",
      "47\n",
      "47\n",
      "47\n",
      "47\n",
      "47\n",
      "47\n",
      "47\n",
      "47\n",
      "47\n",
      "47\n",
      "47\n",
      "47\n",
      "47\n",
      "47\n",
      "47\n",
      "47\n",
      "47\n",
      "47\n",
      "47\n",
      "47\n",
      "47\n",
      "47\n",
      "47\n",
      "47\n",
      "47\n",
      "47\n",
      "47\n",
      "47\n",
      "47\n",
      "47\n",
      "47\n",
      "47\n",
      "47\n",
      "47\n",
      "47\n",
      "47\n",
      "47\n",
      "47\n",
      "47\n",
      "47\n",
      "47\n",
      "47\n",
      "47\n",
      "49\n",
      "49\n",
      "49\n",
      "49\n",
      "49\n",
      "51\n"
     ]
    }
   ],
   "source": [
    "#display the prime numbers within the given interval\n",
    "\n",
    "a=int(input(\"Enter the value of A=\"))\n",
    "b=int(input(\"Enter the value of B=\"))\n",
    "print(\"The prime number in range are:\")\n",
    "for number in range(a,b):\n",
    "    if number >1:\n",
    "        for i in range(2,number):\n",
    "            if number%i==0:\n",
    "                break\n",
    "            else:\n",
    "                print(number)\n"
   ]
  },
  {
   "cell_type": "code",
   "execution_count": 22,
   "id": "cb5bc0de",
   "metadata": {},
   "outputs": [
    {
     "name": "stdout",
     "output_type": "stream",
     "text": [
      "Enter the value of N=12\n",
      "0\n",
      "1\n",
      "1\n",
      "2\n",
      "3\n",
      "5\n",
      "8\n",
      "13\n",
      "21\n",
      "34\n",
      "55\n",
      "89\n",
      "144\n",
      "233\n"
     ]
    }
   ],
   "source": [
    "#display the Fibonacci sequence up to n-th term\n",
    "\n",
    "a=0\n",
    "b=1\n",
    "n=int(input(\"Enter the value of N=\"))\n",
    "print(a)\n",
    "print(b)\n",
    "for i in range(0,n):\n",
    "    c=a+b\n",
    "    print(c)\n",
    "    a,b=b,c\n",
    "\n",
    "\n"
   ]
  },
  {
   "cell_type": "code",
   "execution_count": 21,
   "id": "866b17b1",
   "metadata": {},
   "outputs": [
    {
     "name": "stdout",
     "output_type": "stream",
     "text": [
      "Enter the Number=153\n",
      "153 is an Armstrong number\n"
     ]
    }
   ],
   "source": [
    "# check if the number is an Armstrong number or not\n",
    "\n",
    "\n",
    "num=int(input(\"Enter the Number=\"))\n",
    "sum=0\n",
    "temp=num\n",
    "while temp>0:\n",
    "    digit=temp%10\n",
    "    sum+=digit**3\n",
    "    temp//=10\n",
    "if num==sum:\n",
    "    print(num,\"is an Armstrong number\")\n",
    "else:\n",
    "    print(num,\"is  not an Armstrong number\")"
   ]
  },
  {
   "cell_type": "code",
   "execution_count": 25,
   "id": "042327c6",
   "metadata": {},
   "outputs": [
    {
     "name": "stdout",
     "output_type": "stream",
     "text": [
      "Enter the Number=12\n",
      "13\n",
      "14\n",
      "15\n",
      "16\n",
      "17\n",
      "18\n",
      "19\n",
      "20\n",
      "21\n",
      "22\n",
      "23\n",
      "24\n",
      "25\n"
     ]
    }
   ],
   "source": [
    "# Find the Sum of natural numbers up to n-th term\n",
    "\n",
    "\n",
    "num=int(input(\"Enter the Number=\"))\n",
    "sum=0\n",
    "for i in range(1,n+1):\n",
    "    n=num+i\n",
    "    print(n)"
   ]
  },
  {
   "cell_type": "code",
   "execution_count": 33,
   "id": "d243a39b",
   "metadata": {},
   "outputs": [
    {
     "name": "stdout",
     "output_type": "stream",
     "text": [
      "Enter the number=12\n",
      "* \n",
      "* * \n",
      "* * * \n",
      "* * * * \n",
      "* * * * * \n",
      "* * * * * * \n",
      "* * * * * * * \n",
      "* * * * * * * * \n",
      "* * * * * * * * * \n",
      "* * * * * * * * * * \n",
      "* * * * * * * * * * * \n",
      "* * * * * * * * * * * * \n"
     ]
    }
   ],
   "source": [
    "#Write a function called show_stars(rows). If rows are 5, it should print the following:\n",
    "#*\n",
    "#**\n",
    "#***\n",
    "#****\n",
    "#******\n",
    "\n",
    "num=int(input(\"Enter the number=\"))\n",
    "for i in range(0,num):\n",
    "    for j in range(0,i+1):\n",
    "        print(\"* \",end=\"\")\n",
    "    \n",
    "    \n",
    "    \n",
    "    print()\n",
    "    \n"
   ]
  },
  {
   "cell_type": "code",
   "execution_count": null,
   "id": "7f05c10f",
   "metadata": {},
   "outputs": [],
   "source": [
    "#Write a program to remove characters from a string starting from zero up to n and return \n",
    "#a new string.\n",
    "\n",
    "s=input(\"Enter any string: \")\n",
    "n=int(input(\"Enter how much to remove:\"))\n",
    "b=len(s)\n",
    "print(s[n:])\n",
    "\n"
   ]
  },
  {
   "cell_type": "code",
   "execution_count": 2,
   "id": "fc50e7f7",
   "metadata": {},
   "outputs": [
    {
     "name": "stdout",
     "output_type": "stream",
     "text": [
      "Enter the string :hidadahi\n",
      "Number of substring occurrences: 2\n"
     ]
    }
   ],
   "source": [
    "#Write a program to find how many times substring “Hi” appears in the given string.\n",
    "\n",
    "str=input(\"Enter the string :\")\n",
    "str2= 'hi'\n",
    "\n",
    "count=str.count(str2)\n",
    "print(\"Number of substring occurrences:\",count)"
   ]
  },
  {
   "cell_type": "code",
   "execution_count": 3,
   "id": "412ce794",
   "metadata": {},
   "outputs": [
    {
     "name": "stdout",
     "output_type": "stream",
     "text": [
      "5\n",
      "10\n",
      "85\n",
      "30\n",
      "40\n"
     ]
    }
   ],
   "source": [
    "# Iterate the given list of numbers and print only those numbers which are divisible by 5\n",
    "\n",
    "\n",
    "l=[1,5,8,10,31,62,85,30,40]\n",
    "for i in l:\n",
    "    if i%5==0:\n",
    "        print(i)\n",
    "\n"
   ]
  },
  {
   "cell_type": "code",
   "execution_count": null,
   "id": "1022f350",
   "metadata": {},
   "outputs": [],
   "source": [
    "#"
   ]
  },
  {
   "cell_type": "code",
   "execution_count": 35,
   "id": "c8d2b6a3",
   "metadata": {},
   "outputs": [
    {
     "name": "stdout",
     "output_type": "stream",
     "text": [
      "Enter the number=5\n",
      "  1\n",
      "  2  2\n",
      "  3  3  3\n",
      "  4  4  4  4\n",
      "  5  5  5  5  5\n"
     ]
    }
   ],
   "source": [
    "#Print the following pattern\n",
    "#1 \n",
    "#2 2 \n",
    "#3 3 3 \n",
    "#4 4 4 4 \n",
    "#5 5 5 5 5\n",
    "\n",
    "\n",
    "\n",
    "num=int(input(\"Enter the number=\"))\n",
    "for i in range(0,num):\n",
    "    for j in range(0,i+1):\n",
    "        print(\" \",1+i,end=\"\")\n",
    "    print()"
   ]
  },
  {
   "cell_type": "code",
   "execution_count": 1,
   "id": "3b324cf8",
   "metadata": {},
   "outputs": [
    {
     "name": "stdout",
     "output_type": "stream",
     "text": [
      "Enter a number55855\n",
      "It is a pallindrome\n"
     ]
    }
   ],
   "source": [
    "#Write a program to check if the given number is a palindrome number.\n",
    "\n",
    "pal=input(\"Enter a number\")\n",
    "if pal==pal[::-1]:\n",
    "    print(\"It is a pallindrome\")\n",
    "else:\n",
    "    print(\"It is not a pallindrome\")\n",
    "\n"
   ]
  },
  {
   "cell_type": "code",
   "execution_count": 2,
   "id": "5661b2f8",
   "metadata": {},
   "outputs": [
    {
     "name": "stdout",
     "output_type": "stream",
     "text": [
      "Before interchanging:   [1, 2, 3, 4, 5]\n",
      "After interchanging:   [5, 2, 3, 4, 1]\n"
     ]
    }
   ],
   "source": [
    "#Python program to interchange first and last elements in a list\n",
    "\n",
    "l=[1,2,3,4,5]\n",
    "print(\"Before interchanging:  \",l)\n",
    "l[0],l[len(l)-1]=l[len(l)-1],l[0]\n",
    "print(\"After interchanging:  \",l)"
   ]
  },
  {
   "cell_type": "code",
   "execution_count": 4,
   "id": "1106dccf",
   "metadata": {},
   "outputs": [
    {
     "name": "stdout",
     "output_type": "stream",
     "text": [
      "Before swapping:  [1, 2, 3, 4, 5]\n",
      "Index one: 2\n",
      "Index two: 1\n",
      "After swapping:  [1, 3, 2, 4, 5]\n"
     ]
    }
   ],
   "source": [
    "#Python program to swap two elements in a list\n",
    "\n",
    "\n",
    "l=[1,2,3,4,5]\n",
    "print(\"Before swapping: \",l)\n",
    "x, y = int(input(\"Index one: \")), int(input(\"Index two: \"))\n",
    "l[x],l[y]=l[y],l[x]\n",
    "print(\"After swapping: \",l)"
   ]
  },
  {
   "cell_type": "code",
   "execution_count": 5,
   "id": "df963cb6",
   "metadata": {},
   "outputs": [
    {
     "name": "stdout",
     "output_type": "stream",
     "text": [
      "Length of list:  5\n",
      "Length of list:  5\n"
     ]
    }
   ],
   "source": [
    "#Python | Ways to find length of list\n",
    "\n",
    "l=[1,2,3,4,5]\n",
    "\n",
    "#using built-in function\n",
    "print(\"Length of list: \",len(l))\n",
    "\n",
    "#using for loop\n",
    "c=0\n",
    "for i in l:\n",
    "    c+=1\n",
    "print(\"Length of list: \",c)"
   ]
  },
  {
   "cell_type": "code",
   "execution_count": 6,
   "id": "2c9ae6b5",
   "metadata": {},
   "outputs": [
    {
     "name": "stdout",
     "output_type": "stream",
     "text": [
      "enter value 1: 56\n",
      "enter value 2: 36\n",
      "Maximum value is=  56\n"
     ]
    }
   ],
   "source": [
    "#Maximum of two numbers in Python\n",
    "\n",
    "a,b=int(input(\"enter value 1: \")), int(input(\"enter value 2: \"))\n",
    "if a>b:\n",
    "    print(\"Maximum value is= \",a)\n",
    "else:\n",
    "    print(\"Maximum value is= \",b)"
   ]
  },
  {
   "cell_type": "code",
   "execution_count": 7,
   "id": "38e836a6",
   "metadata": {},
   "outputs": [
    {
     "name": "stdout",
     "output_type": "stream",
     "text": [
      "Enter sting value: mam\n",
      "pallindrome checking:\n",
      "\n",
      "It is a pallindrome\n",
      "symmentrical checking:\n",
      "\n",
      "It is not symmentrical\n"
     ]
    }
   ],
   "source": [
    "#Python program to check whether the string is Symmetrical or Palindrome\n",
    "\n",
    "\n",
    "val=input(\"Enter sting value: \")\n",
    "print(\"pallindrome checking:\\n\")\n",
    "if val==val[::-1]:\n",
    "    print(\"It is a pallindrome\")\n",
    "else:\n",
    "    print(\"It is not a pallindrome\")\n",
    "print(\"symmentrical checking:\\n\")\n",
    "half=len(val)//2\n",
    "if val[half:]==val[:half]:\n",
    "    print(\"It is symmentrical\")\n",
    "else:\n",
    "    print(\"It is not symmentrical\")\n",
    "\n"
   ]
  },
  {
   "cell_type": "code",
   "execution_count": 8,
   "id": "56747e36",
   "metadata": {},
   "outputs": [
    {
     "name": "stdout",
     "output_type": "stream",
     "text": [
      "Enter sting value: dai dam\n",
      "mad iad\n"
     ]
    }
   ],
   "source": [
    "#Reverse words in a given String in Python\n",
    "\n",
    "val=input(\"Enter sting value: \")\n",
    "print(val[::-1])\n"
   ]
  },
  {
   "cell_type": "code",
   "execution_count": 9,
   "id": "f598c3bf",
   "metadata": {},
   "outputs": [
    {
     "name": "stdout",
     "output_type": "stream",
     "text": [
      "Enter the string :dai\n",
      "Enter index  value: 1\n",
      "di\n"
     ]
    }
   ],
   "source": [
    "#Ways to remove i’th character from string in Python\n",
    "\n",
    "s=input(\"Enter the string :\")\n",
    "i=int(input(\"Enter index  value: \"))\n",
    "s1=s[:i]+s[i+1:]\n",
    "print(s1)\n"
   ]
  },
  {
   "cell_type": "code",
   "execution_count": 10,
   "id": "08a0f937",
   "metadata": {},
   "outputs": [
    {
     "name": "stdout",
     "output_type": "stream",
     "text": [
      "Enter the string :hi da \n",
      "Length of string:  6\n",
      "Length of string:  6\n"
     ]
    }
   ],
   "source": [
    "# Find length of a string in python \n",
    "s=input(\"Enter the string :\")\n",
    "\n",
    "#using built-in function\n",
    "print(\"Length of string: \",len(s))\n",
    "\n",
    "#using for loop\n",
    "c=0\n",
    "for i in s:\n",
    "    c+=1\n",
    "print(\"Length of string: \",c)"
   ]
  },
  {
   "cell_type": "code",
   "execution_count": 11,
   "id": "921c9de1",
   "metadata": {},
   "outputs": [
    {
     "name": "stdout",
     "output_type": "stream",
     "text": [
      "Enter the string :dai cheeta\n",
      "cheeta\n"
     ]
    }
   ],
   "source": [
    "# Python program to print even length words in a string\n",
    "  \n",
    "n=input(\"Enter the string :\")\n",
    "s=n.split(\" \")\n",
    "for i in s:\n",
    "    if len(i)%2==0:\n",
    "        print(i)"
   ]
  },
  {
   "cell_type": "code",
   "execution_count": 12,
   "id": "1568b8a2",
   "metadata": {},
   "outputs": [
    {
     "name": "stdout",
     "output_type": "stream",
     "text": [
      "5\n"
     ]
    }
   ],
   "source": [
    "# Python program to Find the size of a Tuple\n",
    "\n",
    "\n",
    "t=(1,2,3,4,5)\n",
    "print(len(t))"
   ]
  },
  {
   "cell_type": "code",
   "execution_count": 13,
   "id": "0ae64f2a",
   "metadata": {},
   "outputs": [
    {
     "name": "stdout",
     "output_type": "stream",
     "text": [
      "Maximum value=  5\n",
      "Minimum value=  1\n"
     ]
    }
   ],
   "source": [
    "# Python – Maximum and Minimum K elements in Tuple\n",
    "\n",
    "k=(1,2,3,4,5)\n",
    "print(\"Maximum value= \",max(k))\n",
    "print(\"Minimum value= \",min(k))\n"
   ]
  },
  {
   "cell_type": "code",
   "execution_count": 14,
   "id": "4963e1db",
   "metadata": {},
   "outputs": [
    {
     "name": "stdout",
     "output_type": "stream",
     "text": [
      "Sum of elements in the tuple: 15\n"
     ]
    }
   ],
   "source": [
    "# Python – Sum of tuple elements\n",
    "t=(1,2,3,4,5)\n",
    "print(\"Sum of elements in the tuple:\",sum(t))"
   ]
  },
  {
   "cell_type": "code",
   "execution_count": 15,
   "id": "af88a0eb",
   "metadata": {},
   "outputs": [
    {
     "name": "stdout",
     "output_type": "stream",
     "text": [
      "Row sum: 6\n",
      "Row sum: 15\n",
      "Row sum: 24\n"
     ]
    }
   ],
   "source": [
    "#Python – Row-wise element Addition in Tuple Matrix\n",
    "\n",
    "tmat = ((1, 2, 3), (4, 5, 6), (7, 8, 9))\n",
    "for row in tmat:\n",
    "    s=sum(row)\n",
    "    print(\"Row sum:\",s)"
   ]
  },
  {
   "cell_type": "code",
   "execution_count": 17,
   "id": "81257d72",
   "metadata": {},
   "outputs": [
    {
     "name": "stdout",
     "output_type": "stream",
     "text": [
      "[(1, 1), (2, 8), (3, 27), (4, 64), (5, 125)]\n"
     ]
    }
   ],
   "source": [
    "#Create a list of tuples from given list having number and its cube in each tuple\n",
    "\n",
    "l = [1,2,3,4,5]\n",
    "p = [(i, pow(i, 3)) for i in l]\n",
    "print(p)\n"
   ]
  },
  {
   "cell_type": "code",
   "execution_count": 18,
   "id": "9bba77a1",
   "metadata": {},
   "outputs": [
    {
     "name": "stdout",
     "output_type": "stream",
     "text": [
      "{'raj': 46, 'raja': 27, 'raju': 45, 'ram': 24, 'ravi': 36}\n"
     ]
    }
   ],
   "source": [
    "# Python | Sort Python Dictionaries by Key or Value\n",
    "\n",
    "Dict = {'ram': 24, 'raj': 46,'ravi': 36, 'raja': 27, 'raju': 45}\n",
    "K= list(Dict.keys())\n",
    "K.sort()\n",
    "sdict={i: Dict[i] for i in K}\n",
    "print(sdict)\n"
   ]
  },
  {
   "cell_type": "code",
   "execution_count": 19,
   "id": "e6b5efab",
   "metadata": {},
   "outputs": [
    {
     "name": "stdout",
     "output_type": "stream",
     "text": [
      "{'x-y+z': [12, 15]}\n"
     ]
    }
   ],
   "source": [
    "#Python dictionary with keys having multiple inputs\n",
    "\n",
    "d= {}\n",
    "a,b,c= 5, 3, 10\n",
    "p,q,r= 12, 6, 9\n",
    "d[\"x-y+z\"] = [a-b+c,p-q+r]\n",
    "print(d)\n"
   ]
  },
  {
   "cell_type": "code",
   "execution_count": 20,
   "id": "b16dc985",
   "metadata": {},
   "outputs": [
    {
     "name": "stdout",
     "output_type": "stream",
     "text": [
      "Dictionary:  {'x': 455, 'y': 223, 'z': 300, 'p': 908}\n",
      "sum:  1886\n"
     ]
    }
   ],
   "source": [
    "#Python program to find the sum of all items in a dictionary\n",
    "\n",
    "\n",
    "d={'x':455,'y':223,'z':300,'p':908 }\n",
    "print(\"Dictionary: \", d)\n",
    "print(\"sum: \",sum(d.values()))"
   ]
  },
  {
   "cell_type": "code",
   "execution_count": 21,
   "id": "d02a77bf",
   "metadata": {},
   "outputs": [
    {
     "name": "stdout",
     "output_type": "stream",
     "text": [
      "Size of dic1:  3\n"
     ]
    }
   ],
   "source": [
    "#Python program to find the size of a Dictionary\n",
    "\n",
    "dic1 = {\"A\": 1,\"B\": 2,\"C\": 3}\n",
    "print(\"Size of dic1: \",len(dic1))\n"
   ]
  },
  {
   "cell_type": "code",
   "execution_count": 22,
   "id": "962428c8",
   "metadata": {},
   "outputs": [
    {
     "name": "stdout",
     "output_type": "stream",
     "text": [
      "Size of set:  5\n"
     ]
    }
   ],
   "source": [
    "# Find the size of a Set in Python\n",
    "\n",
    "\n",
    "s={1,2,3,4,5}\n",
    "print(\"Size of set: \",len(s))"
   ]
  },
  {
   "cell_type": "code",
   "execution_count": 25,
   "id": "fc6e7b8e",
   "metadata": {},
   "outputs": [
    {
     "name": "stdout",
     "output_type": "stream",
     "text": [
      "a\n",
      "H\n",
      "D\n",
      "i\n",
      "J\n",
      "S\n",
      "_\n"
     ]
    }
   ],
   "source": [
    "# Iterate over a set in Python\n",
    "\n",
    "s=set(\"Hi_Da_Dai_SJ\")\n",
    "for i in s:\n",
    "    print(i)\n"
   ]
  },
  {
   "cell_type": "code",
   "execution_count": 26,
   "id": "65d59895",
   "metadata": {},
   "outputs": [
    {
     "name": "stdout",
     "output_type": "stream",
     "text": [
      "Maximum of the set:  5\n",
      "Minimum of the set:  1\n"
     ]
    }
   ],
   "source": [
    "# Python – Maximum and Minimum in a Set\n",
    "\n",
    "s={1,2,3,4,5}\n",
    "print(\"Maximum of the set: \",max(s))\n",
    "print(\"Minimum of the set: \",min(s))\n"
   ]
  },
  {
   "cell_type": "code",
   "execution_count": 27,
   "id": "a8ef3b7f",
   "metadata": {},
   "outputs": [
    {
     "name": "stdout",
     "output_type": "stream",
     "text": [
      "Initial list:  {1, 2, 3, 4, 5}\n",
      "Final list:  {1, 2, 3, 4}\n"
     ]
    }
   ],
   "source": [
    "# Python – Remove items from Set\n",
    "\n",
    "s={1,2,3,4,5}\n",
    "print(\"Initial list: \",s)\n",
    "s.remove(5)\n",
    "print(\"Final list: \",s)\n"
   ]
  },
  {
   "cell_type": "code",
   "execution_count": 29,
   "id": "03082ba0",
   "metadata": {},
   "outputs": [
    {
     "name": "stdout",
     "output_type": "stream",
     "text": [
      "Element common is: 5\n"
     ]
    }
   ],
   "source": [
    "#  Python – Check if two lists have atleast one element common\n",
    "\n",
    "\n",
    "s={1,2,3,4,5}\n",
    "p={5,6,7,8,9}\n",
    "for i in s:\n",
    "    for j in p:\n",
    "        if i==j:\n",
    "            print(\"Element common is:\", i)\n"
   ]
  },
  {
   "cell_type": "code",
   "execution_count": 31,
   "id": "f3644683",
   "metadata": {},
   "outputs": [
    {
     "name": "stdout",
     "output_type": "stream",
     "text": [
      "My matrix is:\n",
      "[[1, 2, 3], [1, 2, 3], [1, 2, 3]]\n"
     ]
    }
   ],
   "source": [
    "# Python – Assigning Subsequent Rows to Matrix first row elements\n",
    "\n",
    "matrix = [[1, 2, 3],\n",
    "          [4, 5, 6],\n",
    "          [7, 8, 9]]\n",
    "print(\"My matrix is:\")\n",
    "# Assign subsequent rows to the first row elements\n",
    "for i in range(1, len(matrix)):\n",
    "    matrix[i] = matrix[0]\n",
    "\n",
    "print(matrix)\n"
   ]
  },
  {
   "cell_type": "code",
   "execution_count": 32,
   "id": "c6c0fa25",
   "metadata": {},
   "outputs": [
    {
     "name": "stdout",
     "output_type": "stream",
     "text": [
      "Printing elements of first matrix\n",
      "1 2 \n",
      "3 4 \n",
      "Printing elements of second matrix\n",
      "4 5 \n",
      "6 7 \n",
      "Subtraction of two matrix\n",
      "-3 -3 \n",
      "-3 -3 \n"
     ]
    }
   ],
   "source": [
    "# Adding and Subtracting Matrices in Python\n",
    "\n",
    "\n",
    "matrix1 = [[1, 2], [3, 4]]\n",
    "matrix2 = [[4, 5], [6, 7]]\n",
    " \n",
    "# Printing elements of matrix1\n",
    "print(\"Printing elements of first matrix\")\n",
    "for row in matrix1:\n",
    "    for element in row:\n",
    "        print(element, end=\" \")\n",
    "    print()\n",
    " \n",
    "# Printing elements of matrix2\n",
    "print(\"Printing elements of second matrix\")\n",
    "for row in matrix2:\n",
    "    for element in row:\n",
    "        print(element, end=\" \")\n",
    "    print()\n",
    " \n",
    "# Subtracting two matrices\n",
    "result = [[0, 0], [0, 0]]\n",
    "for i in range(len(matrix1)):\n",
    "    for j in range(len(matrix1[0])):\n",
    "        result[i][j] = matrix1[i][j] - matrix2[i][j]\n",
    "print(\"Subtraction of two matrix\")\n",
    "for row in result:\n",
    "    for element in row:\n",
    "        print(element, end=\" \")\n",
    "    print()"
   ]
  },
  {
   "cell_type": "code",
   "execution_count": 33,
   "id": "cedf242a",
   "metadata": {},
   "outputs": [
    {
     "name": "stdout",
     "output_type": "stream",
     "text": [
      "[1, 2, 3, 4, 5]\n",
      "[1, 2, 3, 4, 5]\n",
      "[None, None, None, None, 5]\n"
     ]
    }
   ],
   "source": [
    "# Python – Group similar elements into Matrix\n",
    "\n",
    "elements = [1, 2, 3, 2, 1, 3, 4, 5, 4, 5, 5]\n",
    "\n",
    "# Count the occurrences of each element\n",
    "element_counts = {}\n",
    "for element in elements:\n",
    "    if element in element_counts:\n",
    "        element_counts[element] += 1\n",
    "    else:\n",
    "        element_counts[element] = 1\n",
    "\n",
    "# Determine the dimensions of the matrix\n",
    "num_rows = max(element_counts.values())\n",
    "num_cols = len(element_counts)\n",
    "\n",
    "# Create the matrix and fill it with the elements\n",
    "matrix = [[None] * num_cols for _ in range(num_rows)]\n",
    "for col, element in enumerate(element_counts):\n",
    "    count = element_counts[element]\n",
    "    for row in range(count):\n",
    "        matrix[row][col] = element\n",
    "\n",
    "# Print the resulting matrix\n",
    "for row in matrix:\n",
    "    print(row)\n"
   ]
  },
  {
   "cell_type": "code",
   "execution_count": 34,
   "id": "ea047083",
   "metadata": {},
   "outputs": [
    {
     "name": "stdout",
     "output_type": "stream",
     "text": [
      "Row-wise sums:\n",
      "12\n",
      "15\n",
      "18\n"
     ]
    }
   ],
   "source": [
    "# python – Row-wise element Addition in Tuple Matrix\n",
    "\n",
    "\n",
    "matrix = ((1, 2, 3),\n",
    "          (4, 5, 6),\n",
    "          (7, 8, 9))\n",
    "\n",
    "# Perform row-wise element addition\n",
    "row_sums = [sum(row) for row in zip(*matrix)]\n",
    "\n",
    "# Print the row-wise sums\n",
    "print(\"Row-wise sums:\")\n",
    "for sum_value in row_sums:\n",
    "    print(sum_value)\n"
   ]
  },
  {
   "cell_type": "code",
   "execution_count": 35,
   "id": "ec374662",
   "metadata": {},
   "outputs": [
    {
     "name": "stdout",
     "output_type": "stream",
     "text": [
      "[1, 0, 1, 0]\n",
      "[0, 1, 0, 1]\n",
      "[1, 0, 1, 0]\n",
      "[0, 1, 0, 1]\n"
     ]
    }
   ],
   "source": [
    "# Create an n x n square matrix, where all the sub-matrix has the sum of opposite corner \n",
    "# elements as even\n",
    "\n",
    "\n",
    "def create_even_submatrix(n):\n",
    "    matrix = [[0] * n for _ in range(n)]\n",
    "\n",
    "    for i in range(n):\n",
    "        for j in range(n):\n",
    "            if (i + j) % 2 == 0:\n",
    "                matrix[i][j] = 1\n",
    "\n",
    "    return matrix\n",
    "\n",
    "\n",
    "# Test the function\n",
    "n = 4\n",
    "result = create_even_submatrix(n)\n",
    "\n",
    "# Print the resulting matrix\n",
    "for row in result:\n",
    "    print(row)\n"
   ]
  },
  {
   "cell_type": "code",
   "execution_count": 36,
   "id": "d491c9a2",
   "metadata": {},
   "outputs": [
    {
     "name": "stdout",
     "output_type": "stream",
     "text": [
      "['guna', 'dinesh', 'kannan']\n"
     ]
    }
   ],
   "source": [
    "# How to get list of parameters name from a function in Python?\n",
    "\n",
    "import inspect\n",
    "\n",
    "def my_function(guna,dinesh, kannan):\n",
    "    pass\n",
    "\n",
    "# Get the parameter names of the function\n",
    "parameters = inspect.signature(my_function).parameters\n",
    "parameter_names = list(parameters.keys())\n",
    "\n",
    "# Print the parameter names\n",
    "print(parameter_names)"
   ]
  },
  {
   "cell_type": "code",
   "execution_count": 37,
   "id": "c6ad7993",
   "metadata": {},
   "outputs": [
    {
     "name": "stdout",
     "output_type": "stream",
     "text": [
      "John 30 New York\n"
     ]
    }
   ],
   "source": [
    "# How to Print Multiple Arguments in Python?\n",
    "\n",
    "name = \"John\"\n",
    "age = 30\n",
    "city = \"New York\"\n",
    "\n",
    "print(name, age, city)"
   ]
  },
  {
   "cell_type": "code",
   "execution_count": 38,
   "id": "7fb00d75",
   "metadata": {},
   "outputs": [
    {
     "name": "stdout",
     "output_type": "stream",
     "text": [
      "Enter the base: 2\n",
      "Enter the power: 5\n",
      "2 raised to the power of 5 is: 32\n"
     ]
    }
   ],
   "source": [
    "# Python program to find the power of a number using recursion\n",
    "\n",
    "\n",
    "def power(base, exponent):\n",
    "    if exponent == 0:\n",
    "        return 1\n",
    "    elif exponent < 0:\n",
    "        return 1 / power(base, -exponent)\n",
    "    else:\n",
    "        return base * power(base, exponent - 1)\n",
    "\n",
    "# Example usage\n",
    "base =int(input(\"Enter the base: \"))\n",
    "exponent =int(input(\"Enter the power: \"))\n",
    "result = power(base, exponent)\n",
    "print(f\"{base} raised to the power of {exponent} is: {result}\")\n"
   ]
  },
  {
   "cell_type": "code",
   "execution_count": 40,
   "id": "2569396b",
   "metadata": {},
   "outputs": [
    {
     "name": "stdout",
     "output_type": "stream",
     "text": [
      "[('ajay', 'a'), ('goog', 'g'), ('mgm', 'm'), ('nith', 'n'), ('sar', 's')]\n"
     ]
    }
   ],
   "source": [
    "#  Sorting objects of user defined class in Python\n",
    "\n",
    "\n",
    "class grade:\n",
    "    def __init__(self, a, b):\n",
    "        self.a = a\n",
    "        self.b = b\n",
    "  \n",
    "    def __repr__(self):\n",
    "        return str((self.a, self.b))\n",
    "  \n",
    "\n",
    "g= [grade(\"ajay\", 'a'),\n",
    "       grade(\"nith\", 'n'),\n",
    "       grade(\"mgm\", 'm'),\n",
    "       grade(\"sar\", 's'),\n",
    "       grade(\"goog\", 'g')]\n",
    "  \n",
    "\n",
    "print(sorted(g, key=lambda x: x.b))\n"
   ]
  },
  {
   "cell_type": "code",
   "execution_count": 43,
   "id": "3a7c38c8",
   "metadata": {},
   "outputs": [
    {
     "name": "stdout",
     "output_type": "stream",
     "text": [
      "name: sarveswar\n",
      "age: 18\n",
      "city: saram\n"
     ]
    }
   ],
   "source": [
    "# Functions that accept variable length key value pair as arguments\n",
    "\n",
    "def print_kwargs(**kwargs):\n",
    "    for key, value in kwargs.items():\n",
    "        print(f\"{key}: {value}\")\n",
    "\n",
    "# Example usage\n",
    "print_kwargs(name=\"sarveswar\", age=18,city=\"saram\")\n"
   ]
  },
  {
   "cell_type": "code",
   "execution_count": null,
   "id": "b523513c",
   "metadata": {},
   "outputs": [],
   "source": []
  },
  {
   "cell_type": "code",
   "execution_count": null,
   "id": "c268f0a7",
   "metadata": {},
   "outputs": [],
   "source": []
  }
 ],
 "metadata": {
  "kernelspec": {
   "display_name": "Python 3 (ipykernel)",
   "language": "python",
   "name": "python3"
  },
  "language_info": {
   "codemirror_mode": {
    "name": "ipython",
    "version": 3
   },
   "file_extension": ".py",
   "mimetype": "text/x-python",
   "name": "python",
   "nbconvert_exporter": "python",
   "pygments_lexer": "ipython3",
   "version": "3.10.9"
  }
 },
 "nbformat": 4,
 "nbformat_minor": 5
}
